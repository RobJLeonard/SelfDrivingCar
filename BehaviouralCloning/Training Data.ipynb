{
 "cells": [
  {
   "cell_type": "code",
   "execution_count": 75,
   "metadata": {},
   "outputs": [],
   "source": [
    "# Necessary imports\n",
    "import numpy as np\n",
    "import pandas as pd\n",
    "import os\n",
    "import cv2\n",
    "import matplotlib.pyplot as plt\n",
    "import matplotlib.image as mpimg\n",
    "%matplotlib inline"
   ]
  },
  {
   "cell_type": "code",
   "execution_count": 76,
   "metadata": {},
   "outputs": [],
   "source": [
    "track_log_path = ['jungleTrack', 'lsdTrack']\n",
    "\n",
    "\n",
    "#select correct column for csv\n",
    "columns = ['centre cam', 'left cam' , 'right cam ', 'steering', 'throttle', 'brake', 'speed']\n",
    "\n",
    "def parse_logs(track_log_path):\n",
    "    '''\n",
    "    Parse the driving logs, customise the image paths and concatenate all the logs in a single Pandas\n",
    "    DataFrame\n",
    "    :params log_paths: List of all the driving log paths\n",
    "    :return: Pandas DataFrame\n",
    "    '''\n",
    "    frames = []\n",
    "    for i, track_log_path in enumerate(track_log_path):\n",
    "        df = pd.read_csv(track_log_path + '/driving_log.csv')\n",
    "        global columns\n",
    "        df.columns = columns\n",
    "        \n",
    "        for column in columns[:3]:\n",
    "            df[column] = df[column].apply(lambda x: '/'.join(x.split('/')[-3:]))\n",
    "\n",
    "        frames.append(df)\n",
    "    return pd.concat(frames, ignore_index=True)\n",
    "\n",
    "df = parse_logs(track_log_path)\n",
    "image = cv2.imread(df.loc[0]['centre cam'].strip())"
   ]
  },
  {
   "cell_type": "code",
   "execution_count": 77,
   "metadata": {},
   "outputs": [
    {
     "name": "stdout",
     "output_type": "stream",
     "text": [
      "Number of scene frames: 3893\n",
      "Total frames (including the Left/Right prespectives): 11679\n",
      "Image shape: (160, 320, 3)\n"
     ]
    }
   ],
   "source": [
    "# Data set summarisation\n",
    "print('Number of scene frames: {}'.format(len(df)))\n",
    "print('Total frames (including the Left/Right prespectives): {}'.format(len(df) * 3))\n",
    "print('Image shape: {}'.format(image.shape))"
   ]
  },
  {
   "cell_type": "code",
   "execution_count": 78,
   "metadata": {},
   "outputs": [
    {
     "name": "stdout",
     "output_type": "stream",
     "text": [
      "Number of scene frames: 3893\n",
      "Avg # samples/bin: 155.72\n",
      "Threshold 202\n"
     ]
    },
    {
     "data": {
      "image/png": "[encoded data removed]",
      "text/plain": [
       "<matplotlib.figure.Figure at 0x1496f32eac8>"
      ]
     },
     "metadata": {},
     "output_type": "display_data"
    }
   ],
   "source": [
    "print('Number of scene frames: {}'.format(len(df)))\n",
    "\n",
    "# Data set exploratory visualisation\n",
    "# Visualising the steering angle distribution\n",
    "\n",
    "#size of steering angle bins\n",
    "binSize = 25 \n",
    "\n",
    "hist, bins = np.histogram(df.steering, binSize)\n",
    "center = (bins[:-1] + bins[1:])/2\n",
    "\n",
    "plt.figure(figsize=(12,5))\n",
    "plt.bar(center, hist, align='center', width=(bins[0] - bins[1])*0.6, log=True, fc='r', color='b')\n",
    "plt.title('Steering Angle Distribution')\n",
    "plt.ylabel('samples (log)')\n",
    "plt.xlabel('steering angle')\n",
    "avg_nb_samples = len(df['steering']) / binSize\n",
    "threshold = int(avg_nb_samples * 1.3)\n",
    "plt.plot((df['steering'].min(), df['steering'].max()), (threshold, threshold))\n",
    "\n",
    "print('Avg # samples/bin: {}'.format(avg_nb_samples))\n",
    "print('Threshold {}'.format(threshold))"
   ]
  },
  {
   "cell_type": "markdown",
   "metadata": {
    "collapsed": true
   },
   "source": [
    "## Description:\n",
    "This is a graph of the steering angle recorded for each frame during a test drive around the: Lake Shore Drive track in the simulator. The Data is severly skewed towards the center which will give our neural networ very poor learning material. Balance and variety are very important to sufficiently train our model.\n",
    "Reasons for skewed data: \n",
    "<ul>\n",
    "<li>Track, This course contains a lot of straights or gently turns meaning it doesn't require as many extreme steering angles</li>\n",
    "<li>Sample Size, This data is from one lap, around one track, in one direction. To accomplish a more balanced sample set we will need to record multiple laps on different tracks and in different directions</li>\n",
    "<li>Specialisation, This was a recording of a normal lap around the track but we may want to record particular turns or environments multiple times such as sharp bends. It would have undoubtedly helped balance out the data in this case.</li>\n",
    "<li>Data Selection, This is the whole set of data recorded in one lap and as we have discussed it is very skewed towards the center because the track contains many straights. We could how ever decide to purposely omit data, such as the large number of low steering angles in this case, to have a more balanced training set </li>\n",
    "</ul>\n",
    "In the graph above we can also see the ideal amount of data wanted for a training set, a balenced amount of data on all steering angles would be more conducive to creating a self driving car neural network model.\n",
    "<img src = \"LSD_trackPhoto.png\" style=\"width: 600px;\" alt = \"Image from Track\"/> "
   ]
  },
  {
   "cell_type": "markdown",
   "metadata": {
    "collapsed": true
   },
   "source": [
    "## Description:\n",
    "This is the data recorded on the Jungle Track as you can see from a quick glance at the data it is much closer to the ideal distribution of steering angles for a self driving car training set. This track consists of a much larger number of turns. This track also includes a number of other features not taken into account yet such as gradient and surrounding environment. The steep hills and darker areas (in the shade or under a bridge) will need to be included in the training set aswell. If we don't have training data for these environments the model will not be able to make a correct steering decision. \n",
    "\n",
    "However this data is still not ideal for training. Next step is to collect a larger quantity of data and select the relevant data e.g. balanced number of steering angles and a variety of environments.\n",
    "\n",
    "<img src = \"jungle_trackPhoto.png\" style=\"width: 600px;\" alt = \"Image from Track\"/> "
   ]
  },
  {
   "cell_type": "code",
   "execution_count": 79,
   "metadata": {},
   "outputs": [
    {
     "data": {
      "text/html": [
       "<script>requirejs.config({paths: { 'plotly': ['https://cdn.plot.ly/plotly-latest.min']},});if(!window.Plotly) {{require(['plotly'],function(plotly) {window.Plotly=plotly;});}}</script>"
      ],
      "text/vnd.plotly.v1+html": [
       "<script>requirejs.config({paths: { 'plotly': ['https://cdn.plot.ly/plotly-latest.min']},});if(!window.Plotly) {{require(['plotly'],function(plotly) {window.Plotly=plotly;});}}</script>"
      ]
     },
     "metadata": {},
     "output_type": "display_data"
    },
    {
     "ename": "FileNotFoundError",
     "evalue": "File b'jungle_earlyData.csv' does not exist",
     "output_type": "error",
     "traceback": [
      "\u001b[1;31m---------------------------------------------------------------------------\u001b[0m",
      "\u001b[1;31mFileNotFoundError\u001b[0m                         Traceback (most recent call last)",
      "\u001b[1;32m<ipython-input-79-037d3d279938>\u001b[0m in \u001b[0;36m<module>\u001b[1;34m()\u001b[0m\n\u001b[0;32m     12\u001b[0m \u001b[1;33m\u001b[0m\u001b[0m\n\u001b[0;32m     13\u001b[0m \u001b[1;31m#Read in data\u001b[0m\u001b[1;33m\u001b[0m\u001b[1;33m\u001b[0m\u001b[0m\n\u001b[1;32m---> 14\u001b[1;33m \u001b[0mdf\u001b[0m \u001b[1;33m=\u001b[0m \u001b[0mpd\u001b[0m\u001b[1;33m.\u001b[0m\u001b[0mread_csv\u001b[0m\u001b[1;33m(\u001b[0m\u001b[1;34m'jungle_earlyData.csv'\u001b[0m\u001b[1;33m)\u001b[0m\u001b[1;33m\u001b[0m\u001b[0m\n\u001b[0m\u001b[0;32m     15\u001b[0m \u001b[1;31m#select correct column for csv\u001b[0m\u001b[1;33m\u001b[0m\u001b[1;33m\u001b[0m\u001b[0m\n\u001b[0;32m     16\u001b[0m \u001b[0mangle_list\u001b[0m\u001b[1;33m=\u001b[0m\u001b[0mdf\u001b[0m\u001b[1;33m[\u001b[0m\u001b[1;34m'angle'\u001b[0m\u001b[1;33m]\u001b[0m\u001b[1;33m\u001b[0m\u001b[0m\n",
      "\u001b[1;32m~\\Anaconda3\\lib\\site-packages\\pandas\\io\\parsers.py\u001b[0m in \u001b[0;36mparser_f\u001b[1;34m(filepath_or_buffer, sep, delimiter, header, names, index_col, usecols, squeeze, prefix, mangle_dupe_cols, dtype, engine, converters, true_values, false_values, skipinitialspace, skiprows, nrows, na_values, keep_default_na, na_filter, verbose, skip_blank_lines, parse_dates, infer_datetime_format, keep_date_col, date_parser, dayfirst, iterator, chunksize, compression, thousands, decimal, lineterminator, quotechar, quoting, escapechar, comment, encoding, dialect, tupleize_cols, error_bad_lines, warn_bad_lines, skipfooter, skip_footer, doublequote, delim_whitespace, as_recarray, compact_ints, use_unsigned, low_memory, buffer_lines, memory_map, float_precision)\u001b[0m\n\u001b[0;32m    653\u001b[0m                     skip_blank_lines=skip_blank_lines)\n\u001b[0;32m    654\u001b[0m \u001b[1;33m\u001b[0m\u001b[0m\n\u001b[1;32m--> 655\u001b[1;33m         \u001b[1;32mreturn\u001b[0m \u001b[0m_read\u001b[0m\u001b[1;33m(\u001b[0m\u001b[0mfilepath_or_buffer\u001b[0m\u001b[1;33m,\u001b[0m \u001b[0mkwds\u001b[0m\u001b[1;33m)\u001b[0m\u001b[1;33m\u001b[0m\u001b[0m\n\u001b[0m\u001b[0;32m    656\u001b[0m \u001b[1;33m\u001b[0m\u001b[0m\n\u001b[0;32m    657\u001b[0m     \u001b[0mparser_f\u001b[0m\u001b[1;33m.\u001b[0m\u001b[0m__name__\u001b[0m \u001b[1;33m=\u001b[0m \u001b[0mname\u001b[0m\u001b[1;33m\u001b[0m\u001b[0m\n",
      "\u001b[1;32m~\\Anaconda3\\lib\\site-packages\\pandas\\io\\parsers.py\u001b[0m in \u001b[0;36m_read\u001b[1;34m(filepath_or_buffer, kwds)\u001b[0m\n\u001b[0;32m    403\u001b[0m \u001b[1;33m\u001b[0m\u001b[0m\n\u001b[0;32m    404\u001b[0m     \u001b[1;31m# Create the parser.\u001b[0m\u001b[1;33m\u001b[0m\u001b[1;33m\u001b[0m\u001b[0m\n\u001b[1;32m--> 405\u001b[1;33m     \u001b[0mparser\u001b[0m \u001b[1;33m=\u001b[0m \u001b[0mTextFileReader\u001b[0m\u001b[1;33m(\u001b[0m\u001b[0mfilepath_or_buffer\u001b[0m\u001b[1;33m,\u001b[0m \u001b[1;33m**\u001b[0m\u001b[0mkwds\u001b[0m\u001b[1;33m)\u001b[0m\u001b[1;33m\u001b[0m\u001b[0m\n\u001b[0m\u001b[0;32m    406\u001b[0m \u001b[1;33m\u001b[0m\u001b[0m\n\u001b[0;32m    407\u001b[0m     \u001b[1;32mif\u001b[0m \u001b[0mchunksize\u001b[0m \u001b[1;32mor\u001b[0m \u001b[0miterator\u001b[0m\u001b[1;33m:\u001b[0m\u001b[1;33m\u001b[0m\u001b[0m\n",
      "\u001b[1;32m~\\Anaconda3\\lib\\site-packages\\pandas\\io\\parsers.py\u001b[0m in \u001b[0;36m__init__\u001b[1;34m(self, f, engine, **kwds)\u001b[0m\n\u001b[0;32m    762\u001b[0m             \u001b[0mself\u001b[0m\u001b[1;33m.\u001b[0m\u001b[0moptions\u001b[0m\u001b[1;33m[\u001b[0m\u001b[1;34m'has_index_names'\u001b[0m\u001b[1;33m]\u001b[0m \u001b[1;33m=\u001b[0m \u001b[0mkwds\u001b[0m\u001b[1;33m[\u001b[0m\u001b[1;34m'has_index_names'\u001b[0m\u001b[1;33m]\u001b[0m\u001b[1;33m\u001b[0m\u001b[0m\n\u001b[0;32m    763\u001b[0m \u001b[1;33m\u001b[0m\u001b[0m\n\u001b[1;32m--> 764\u001b[1;33m         \u001b[0mself\u001b[0m\u001b[1;33m.\u001b[0m\u001b[0m_make_engine\u001b[0m\u001b[1;33m(\u001b[0m\u001b[0mself\u001b[0m\u001b[1;33m.\u001b[0m\u001b[0mengine\u001b[0m\u001b[1;33m)\u001b[0m\u001b[1;33m\u001b[0m\u001b[0m\n\u001b[0m\u001b[0;32m    765\u001b[0m \u001b[1;33m\u001b[0m\u001b[0m\n\u001b[0;32m    766\u001b[0m     \u001b[1;32mdef\u001b[0m \u001b[0mclose\u001b[0m\u001b[1;33m(\u001b[0m\u001b[0mself\u001b[0m\u001b[1;33m)\u001b[0m\u001b[1;33m:\u001b[0m\u001b[1;33m\u001b[0m\u001b[0m\n",
      "\u001b[1;32m~\\Anaconda3\\lib\\site-packages\\pandas\\io\\parsers.py\u001b[0m in \u001b[0;36m_make_engine\u001b[1;34m(self, engine)\u001b[0m\n\u001b[0;32m    983\u001b[0m     \u001b[1;32mdef\u001b[0m \u001b[0m_make_engine\u001b[0m\u001b[1;33m(\u001b[0m\u001b[0mself\u001b[0m\u001b[1;33m,\u001b[0m \u001b[0mengine\u001b[0m\u001b[1;33m=\u001b[0m\u001b[1;34m'c'\u001b[0m\u001b[1;33m)\u001b[0m\u001b[1;33m:\u001b[0m\u001b[1;33m\u001b[0m\u001b[0m\n\u001b[0;32m    984\u001b[0m         \u001b[1;32mif\u001b[0m \u001b[0mengine\u001b[0m \u001b[1;33m==\u001b[0m \u001b[1;34m'c'\u001b[0m\u001b[1;33m:\u001b[0m\u001b[1;33m\u001b[0m\u001b[0m\n\u001b[1;32m--> 985\u001b[1;33m             \u001b[0mself\u001b[0m\u001b[1;33m.\u001b[0m\u001b[0m_engine\u001b[0m \u001b[1;33m=\u001b[0m \u001b[0mCParserWrapper\u001b[0m\u001b[1;33m(\u001b[0m\u001b[0mself\u001b[0m\u001b[1;33m.\u001b[0m\u001b[0mf\u001b[0m\u001b[1;33m,\u001b[0m \u001b[1;33m**\u001b[0m\u001b[0mself\u001b[0m\u001b[1;33m.\u001b[0m\u001b[0moptions\u001b[0m\u001b[1;33m)\u001b[0m\u001b[1;33m\u001b[0m\u001b[0m\n\u001b[0m\u001b[0;32m    986\u001b[0m         \u001b[1;32melse\u001b[0m\u001b[1;33m:\u001b[0m\u001b[1;33m\u001b[0m\u001b[0m\n\u001b[0;32m    987\u001b[0m             \u001b[1;32mif\u001b[0m \u001b[0mengine\u001b[0m \u001b[1;33m==\u001b[0m \u001b[1;34m'python'\u001b[0m\u001b[1;33m:\u001b[0m\u001b[1;33m\u001b[0m\u001b[0m\n",
      "\u001b[1;32m~\\Anaconda3\\lib\\site-packages\\pandas\\io\\parsers.py\u001b[0m in \u001b[0;36m__init__\u001b[1;34m(self, src, **kwds)\u001b[0m\n\u001b[0;32m   1603\u001b[0m         \u001b[0mkwds\u001b[0m\u001b[1;33m[\u001b[0m\u001b[1;34m'allow_leading_cols'\u001b[0m\u001b[1;33m]\u001b[0m \u001b[1;33m=\u001b[0m \u001b[0mself\u001b[0m\u001b[1;33m.\u001b[0m\u001b[0mindex_col\u001b[0m \u001b[1;32mis\u001b[0m \u001b[1;32mnot\u001b[0m \u001b[1;32mFalse\u001b[0m\u001b[1;33m\u001b[0m\u001b[0m\n\u001b[0;32m   1604\u001b[0m \u001b[1;33m\u001b[0m\u001b[0m\n\u001b[1;32m-> 1605\u001b[1;33m         \u001b[0mself\u001b[0m\u001b[1;33m.\u001b[0m\u001b[0m_reader\u001b[0m \u001b[1;33m=\u001b[0m \u001b[0mparsers\u001b[0m\u001b[1;33m.\u001b[0m\u001b[0mTextReader\u001b[0m\u001b[1;33m(\u001b[0m\u001b[0msrc\u001b[0m\u001b[1;33m,\u001b[0m \u001b[1;33m**\u001b[0m\u001b[0mkwds\u001b[0m\u001b[1;33m)\u001b[0m\u001b[1;33m\u001b[0m\u001b[0m\n\u001b[0m\u001b[0;32m   1606\u001b[0m \u001b[1;33m\u001b[0m\u001b[0m\n\u001b[0;32m   1607\u001b[0m         \u001b[1;31m# XXX\u001b[0m\u001b[1;33m\u001b[0m\u001b[1;33m\u001b[0m\u001b[0m\n",
      "\u001b[1;32mpandas/_libs/parsers.pyx\u001b[0m in \u001b[0;36mpandas._libs.parsers.TextReader.__cinit__ (pandas\\_libs\\parsers.c:4209)\u001b[1;34m()\u001b[0m\n",
      "\u001b[1;32mpandas/_libs/parsers.pyx\u001b[0m in \u001b[0;36mpandas._libs.parsers.TextReader._setup_parser_source (pandas\\_libs\\parsers.c:8873)\u001b[1;34m()\u001b[0m\n",
      "\u001b[1;31mFileNotFoundError\u001b[0m: File b'jungle_earlyData.csv' does not exist"
     ]
    }
   ],
   "source": [
    "import numpy as np\n",
    "import pandas as pd\n",
    "import matplotlib.pyplot as plt\n",
    "import plotly.graph_objs as go\n",
    "import plotly.figure_factory as FF\n",
    "from plotly import __version__\n",
    "from plotly.offline import download_plotlyjs, init_notebook_mode, plot,iplot\n",
    "\n",
    "#Always run this the command before at the start of notebook\n",
    "init_notebook_mode(connected=True)\n",
    "import plotly.graph_objs as go\n",
    "\n",
    "#Read in data\n",
    "df = pd.read_csv('jungle_earlyData.csv')\n",
    "#select correct column for csv\n",
    "angle_list=df['angle']\n",
    "speed_list=df['speed']\n",
    "speed=np.array(speed_list)\n",
    "angle=np.array(angle_list)\n",
    "#np.sort(angle)\n",
    "\n",
    "\n",
    "#create a numpy histogram from the data\n",
    "hist_data = np.histogram(angle_list)\n",
    "#define bin sizes for histogram based on dataset\n",
    "binsize = hist_data[1][1] - hist_data[1][0]\n",
    "\n",
    "hist_data2 = np.histogram(speed_list)\n",
    "#define bin sizes for histogram based on dataset\n",
    "binsize2 = hist_data2[1][1] - hist_data2[1][0]\n",
    "\n",
    "\n",
    "trace1 = go.Histogram(\n",
    "    x=angle_list,\n",
    "    histnorm='count',\n",
    "    name='Steering Angle',\n",
    "    autobinx=False,\n",
    "    xbins=dict(\n",
    "        start=hist_data[1][0],\n",
    "        end=hist_data[1][-1],\n",
    "        size=binsize\n",
    "    )\n",
    ")\n",
    "\n",
    "trace2 = go.Scatter(\n",
    "    name='Ideal Data Amount',\n",
    "    y=[300,300],\n",
    "    x=[-1,1]\n",
    ")\n",
    "\n",
    "trace3 = go.Scatter(\n",
    "    name='Speed',\n",
    "    y=speed,\n",
    "    x=angle,\n",
    "    mode='markers',\n",
    "    yaxis='y2'\n",
    ")\n",
    "\n",
    "\n",
    "\n",
    "data = [trace1,trace2,trace3]\n",
    "\n",
    "layout = go.Layout(\n",
    "    bargroupgap=0.3,\n",
    "    title='Welcome to the Jungle Track Data',\n",
    "    xaxis=dict(title='Steering Angle'),\n",
    "    \n",
    "    yaxis=dict(title='Frames'),\n",
    "    \n",
    "    yaxis2=dict(\n",
    "        title='Speed',\n",
    "        titlefont=dict(\n",
    "            color='rgb(148, 103, 189)'\n",
    "        ),\n",
    "        anchor='x',\n",
    "        overlaying='y',\n",
    "        side='right'\n",
    "    )\n",
    ")\n",
    "fig = go.Figure(data=data, layout=layout)\n",
    "iplot(fig)\n",
    "\n"
   ]
  },
  {
   "cell_type": "code",
   "execution_count": null,
   "metadata": {},
   "outputs": [],
   "source": [
    "import numpy as np\n",
    "import pandas as pd\n",
    "import matplotlib.pyplot as plt\n",
    "import plotly.graph_objs as go\n",
    "import plotly.figure_factory as FF\n",
    "from plotly import __version__\n",
    "from plotly.offline import download_plotlyjs, init_notebook_mode, plot,iplot\n",
    "\n",
    "#Always run this the command before at the start of notebook\n",
    "init_notebook_mode(connected=True)\n",
    "import plotly.graph_objs as go\n",
    "\n",
    "#Read in data\n",
    "df = pd.read_csv('meg_driving.csv')\n",
    "#select correct column for csv\n",
    "angle_list=df['angle']\n",
    "\n",
    "#create a numpy histogram from the data\n",
    "hist_data = np.histogram(angle_list)\n",
    "#define bin sizes for histogram based on dataset\n",
    "binsize = hist_data[1][1] - hist_data[1][0]\n",
    "\n",
    "\n",
    "trace1 = go.Histogram(\n",
    "    x=angle_list,\n",
    "    histnorm='count',\n",
    "    name='Steering Angle',\n",
    "    autobinx=False,\n",
    "    xbins=dict(\n",
    "        start=hist_data[1][0],\n",
    "        end=hist_data[1][-1],\n",
    "        size=binsize\n",
    "    )\n",
    ")\n",
    "\n",
    "#Read in data\n",
    "df = pd.read_csv('meg_driving1.csv')\n",
    "#select correct column for csv\n",
    "angle_list=df['angle']\n",
    "\n",
    "#create a numpy histogram from the data\n",
    "hist_data = np.histogram(angle_list)\n",
    "#define bin sizes for histogram based on dataset\n",
    "binsize = hist_data[1][1] - hist_data[1][0]\n",
    "\n",
    "\n",
    "trace2 = go.Histogram(\n",
    "    x=angle_list,\n",
    "    histnorm='count',\n",
    "    name='Steering Angle 1',\n",
    "    autobinx=False,\n",
    "    xbins=dict(\n",
    "        start=hist_data[1][0],\n",
    "        end=hist_data[1][-1],\n",
    "        size=binsize\n",
    "    )\n",
    ")\n",
    "\n",
    "trace3 = go.Scatter(\n",
    "    name='Ideal Data Amount',\n",
    "    y=[1000,1000],\n",
    "    x=[-1,1]\n",
    ")\n",
    "\n",
    "data = [trace1,trace2]\n",
    "layout = go.Layout(\n",
    "    bargroupgap=0.001,\n",
    "    title='Lake Shore Drive Track Data',\n",
    "    xaxis=dict(title='Steering Angle'),\n",
    "    yaxis=dict(title='Frames')\n",
    ")\n",
    "fig = go.Figure(data=data, layout=layout)\n",
    "iplot(fig)\n",
    "\n"
   ]
  },
  {
   "cell_type": "code",
   "execution_count": null,
   "metadata": {
    "collapsed": true
   },
   "outputs": [],
   "source": []
  }
 ],
 "metadata": {
  "kernelspec": {
   "display_name": "Python 3",
   "language": "python",
   "name": "python3"
  }
 },
 "nbformat": 4,
 "nbformat_minor": 2
}
