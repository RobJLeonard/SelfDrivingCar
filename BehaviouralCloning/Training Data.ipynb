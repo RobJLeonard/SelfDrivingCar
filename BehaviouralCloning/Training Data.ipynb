{
 "cells": [
  {
   "cell_type": "markdown",
   "metadata": {},
   "source": [
    "# Self Driving Car \n",
    "## Convolutional Neural Network (CNN)\n",
    "This project is to develop a Behavioural Bloning SDC using a deep neural network \n",
    "\n",
    "### System Pipeline Overview\n",
    "<ul>\n",
    "<li>Data Collection</li>\n",
    "<li>Data Augmentation</li>\n",
    "<li>Data Preprocess</li>\n",
    "<li>Define the Model</li>\n",
    "<li>Train the Model</li>\n",
    "<li>Test the Model</li>\n",
    "</ul>"
   ]
  },
  {
   "cell_type": "code",
   "execution_count": 7,
   "metadata": {
    "collapsed": true
   },
   "outputs": [],
   "source": [
    "# Necessary imports\n",
    "import numpy as np\n",
    "import pandas as pd\n",
    "import os\n",
    "import cv2\n",
    "import matplotlib.pyplot as plt\n",
    "import matplotlib.image as mpimg\n",
    "%matplotlib inline"
   ]
  },
  {
   "cell_type": "markdown",
   "metadata": {},
   "source": [
    "## 1. Data Collection\n",
    "The driving information was collected in a simulated environment to make it easy to record all the car controls and the environment the car sees infront of it through 3 cameras. The car was driven around two tracks in the simulator multiple times and in different directions or focusing on different parts to collect a balanced and varied data so that the neural network will be able to handle many different situations."
   ]
  },
  {
   "cell_type": "code",
   "execution_count": 8,
   "metadata": {
    "collapsed": true
   },
   "outputs": [],
   "source": [
    "track_log_path = ['jungleTrack', 'lsdTrack']\n",
    "\n",
    "\n",
    "#select correct column for csv\n",
    "columns = ['centre cam', 'left cam' , 'right cam ', 'steering', 'throttle', 'brake', 'speed']\n",
    "\n",
    "def parse_logs(track_log_path):\n",
    "    '''\n",
    "    Parse the driving logs, customise the image paths and concatenate all the logs in a single Pandas\n",
    "    DataFrame\n",
    "    :params log_paths: List of all the driving log paths\n",
    "    :return: Pandas DataFrame\n",
    "    '''\n",
    "    frames = []\n",
    "    for i, track_log_path in enumerate(track_log_path):\n",
    "        df = pd.read_csv(track_log_path + '/driving_log.csv')\n",
    "        global columns\n",
    "        df.columns = columns\n",
    "        \n",
    "        for column in columns[:3]:\n",
    "            df[column] = df[column].apply(lambda x: '/'.join(x.split('/')[-3:]))\n",
    "\n",
    "        frames.append(df)\n",
    "    return pd.concat(frames, ignore_index=True)\n",
    "\n",
    "df = parse_logs(track_log_path)\n",
    "image = cv2.imread(df.loc[0]['centre cam'].strip())"
   ]
  },
  {
   "cell_type": "code",
   "execution_count": 9,
   "metadata": {},
   "outputs": [
    {
     "name": "stdout",
     "output_type": "stream",
     "text": [
      "Number of scene frames: 3893 /20,000\n",
      "[============------------------------------------------------] 19.5% ...Data Collection Progress\r\n",
      "\n",
      "Ideally we want a sample set of about 20,00 for balance and variety\n",
      "Total frames Left,Right and Centre prespectives): 11679 /60,000\n",
      "Image shape: (160, 320, 3)\n"
     ]
    }
   ],
   "source": [
    "def progress(count, total, status=''):\n",
    "    bar_len = 60\n",
    "    filled_len = int(round(bar_len * count / float(total)))\n",
    "\n",
    "    percents = round(100.0 * count / float(total), 1)\n",
    "    bar = '=' * filled_len + '-' * (bar_len - filled_len)\n",
    "\n",
    "    print('[%s] %s%s ...%s\\r' % (bar, percents, '%', status))\n",
    "    return\n",
    "\n",
    "\n",
    "print('Number of scene frames: {} /20,000'.format(len(df)))\n",
    "progress(len(df),20000,\"Data Collection Progress\")\n",
    "print('\\nIdeally we want a sample set of about 20,00 for balance and variety')\n",
    "print('Total frames Left,Right and Centre prespectives): {} /60,000'.format(len(df) * 3))\n",
    "print('Image shape: {}'.format(image.shape))"
   ]
  },
  {
   "cell_type": "code",
   "execution_count": 10,
   "metadata": {
    "scrolled": false
   },
   "outputs": [
    {
     "name": "stdout",
     "output_type": "stream",
     "text": [
      "Avg # samples/bin: 155.72\n",
      "Threshold 202\n"
     ]
    },
    {
     "data": {
      "image/png": "[encoded data removed]",
      "text/plain": [
       "<matplotlib.figure.Figure at 0x1c1a1db1898>"
      ]
     },
     "metadata": {},
     "output_type": "display_data"
    }
   ],
   "source": [
    "# Visualising the steering angle distribution\n",
    "\n",
    "#size of steering angle bins\n",
    "binSize = 25 \n",
    "\n",
    "hist, bins = np.histogram(df.steering, binSize)\n",
    "center = (bins[:-1] + bins[1:])/2\n",
    "\n",
    "plt.figure(figsize=(12,5))\n",
    "plt.bar(center, hist, align='center', width=(bins[0] - bins[1])*0.6, log=True, fc='r', color='b')\n",
    "plt.title('Steering Angle Distribution')\n",
    "plt.ylabel('samples (log)')\n",
    "plt.xlabel('steering angle')\n",
    "avg_nb_samples = len(df['steering']) / binSize\n",
    "threshold = int(avg_nb_samples * 1.3)\n",
    "plt.plot((df['steering'].min(), df['steering'].max()), (threshold, threshold))\n",
    "\n",
    "print('Avg # samples/bin: {}'.format(avg_nb_samples))\n",
    "print('Threshold {}'.format(threshold))"
   ]
  },
  {
   "cell_type": "markdown",
   "metadata": {
    "collapsed": true
   },
   "source": [
    "## Description:\n",
    "This is a graph of the steering angle recorded for each frame during a drive around the simulator. The Data is skewed towards the center which will give our neural network poor learning material. Balance and variety are very important to sufficiently train our model.\n",
    "Reasons for skewed data: \n",
    "<ul>\n",
    "<li>Track: This course contains a lot of straights or gently turns meaning it doesn't require as many extreme steering angles</li>\n",
    "<li>Sample Size: If the data is from one lap, around one track, in one direction for example. To accomplish a more balanced sample set we will need to record multiple laps on different tracks and in different directions</li>\n",
    "<li>Specialisation: We may want to record particular turns or environments multiple times such as sharp bends. It would have undoubtedly helped balance out the data in this case.</li>\n",
    "<li>Data Selection: This is the whole set of data recorded is very skewed towards the center because the tracks contain many straights. We could how ever decide to purposely omit data, such as the large number of low steering angles, to have a more balanced training set </li>\n",
    "</ul>\n",
    "In the graph above I have marked the cut off point above which I will discard any more data. This will give a more balanced data set.\n"
   ]
  },
  {
   "cell_type": "code",
   "execution_count": null,
   "metadata": {
    "collapsed": true
   },
   "outputs": [],
   "source": []
  },
  {
   "cell_type": "code",
   "execution_count": null,
   "metadata": {
    "collapsed": true
   },
   "outputs": [],
   "source": []
  }
 ],
 "metadata": {
  "kernelspec": {
   "display_name": "Python 3",
   "language": "python",
   "name": "python3"
  },
  "language_info": {
   "codemirror_mode": {
    "name": "ipython",
    "version": 3
   },
   "file_extension": ".py",
   "mimetype": "text/x-python",
   "name": "python",
   "nbconvert_exporter": "python",
   "pygments_lexer": "ipython3",
   "version": "3.6.3"
  }
 },
 "nbformat": 4,
 "nbformat_minor": 2
}
